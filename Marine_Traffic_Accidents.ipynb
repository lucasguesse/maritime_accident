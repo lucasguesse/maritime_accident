{
  "nbformat": 4,
  "nbformat_minor": 0,
  "metadata": {
    "colab": {
      "provenance": [],
      "authorship_tag": "ABX9TyMamtkZ+pqa7Hq0TDoc7Gno"
    },
    "kernelspec": {
      "name": "python3",
      "display_name": "Python 3"
    },
    "language_info": {
      "name": "python"
    }
  },
  "cells": [
    {
      "cell_type": "markdown",
      "source": [
        "# Brazilian maritime traffic: prediction of severity using machine learning techinics\n",
        "\n",
        "Formalização do problema\n",
        "- contextualização motivação importancia\n",
        "- qual tipo de abordagem (regressao ou classificação)\n",
        "O Brasil tem uma costa de aproximadamente 8.500 quilometros  e\n",
        "\n"
      ],
      "metadata": {
        "id": "JSxoJzVZDXcS"
      }
    },
    {
      "cell_type": "markdown",
      "source": [],
      "metadata": {
        "id": "lEuKepYLYp2G"
      }
    },
    {
      "cell_type": "markdown",
      "source": [
        "## Hipotese\n",
        "objetivo geral\n",
        "objetivo específicos\n",
        "descrever metodologia experimental"
      ],
      "metadata": {
        "id": "PtKXtn4XYwO6"
      }
    },
    {
      "cell_type": "code",
      "source": [],
      "metadata": {
        "id": "V7qgiFLfYpBN"
      },
      "execution_count": null,
      "outputs": []
    },
    {
      "cell_type": "markdown",
      "source": [
        "# Revisão Bibliográfica\n",
        "\n",
        "* Comparative Study of Machine Learning Classifiers for Modelling Road Traffic Accidents - https://doi.org/10.3390/app12020828\n",
        "\n",
        "* Comparison of Machine Learning Algorithms for Predicting Traffic Accident Severity - https://ieeexplore.ieee.org/stamp/stamp.jsp?tp=&arnumber=8717393\n",
        "\n",
        "*\n",
        "\n"
      ],
      "metadata": {
        "id": "ZBEXGTtXYxJo"
      }
    },
    {
      "cell_type": "markdown",
      "source": [
        "Dados\n",
        "\n",
        "- discutir o porquê essa base é adequada e apresentar algumas caracteristicas\n",
        "- detalhar features e regressores\n",
        "\n"
      ],
      "metadata": {
        "id": "dXodP0jYY9-P"
      }
    },
    {
      "cell_type": "markdown",
      "source": [
        "## Protótipo\n",
        "- utilizar auto ML\n",
        "- justificar\n",
        "- metrica de avaliação. por que é adequada\n",
        "- resultados preliminares"
      ],
      "metadata": {
        "id": "xTZXucvOU-4J"
      }
    },
    {
      "cell_type": "markdown",
      "source": [
        "Discussão e Considerações\n",
        "- satisfação com resultados prévios\n",
        "- ganho em relação a estatistica básica (media, moda etc)\n",
        "- adequado para uso no curso"
      ],
      "metadata": {
        "id": "i3igAGyUVS8w"
      }
    }
  ]
}